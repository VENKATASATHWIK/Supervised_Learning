{
 "cells": [
  {
   "cell_type": "code",
   "execution_count": 1,
   "id": "3b9201b3",
   "metadata": {},
   "outputs": [],
   "source": [
    "import numpy as np\n",
    "import pandas as pd \n",
    "from sklearn.model_selection import train_test_split\n",
    "from sklearn.linear_model import LogisticRegression\n",
    "from sklearn.metrics import accuracy_score,confusion_matrix,classification_report\n",
    "import matplotlib.pyplot as plt \n"
   ]
  },
  {
   "cell_type": "code",
   "execution_count": 2,
   "id": "35ff90d6",
   "metadata": {},
   "outputs": [
    {
     "name": "stdout",
     "output_type": "stream",
     "text": [
      "Dataset Preview:\n",
      "   study_hours  previous_score  passed\n",
      "0            1              45       0\n",
      "1            2              50       0\n",
      "2            3              55       0\n",
      "3            4              60       0\n",
      "4            5              65       1\n"
     ]
    }
   ],
   "source": [
    "#step 1:create a sample dataset\n",
    "## create a simple dataset \n",
    "data = {\n",
    "    'study_hours': [1, 2, 3, 4, 5, 6, 7, 8, 9, 10, 2, 3, 4, 5, 6, 7, 8, 9, 10, 11],\n",
    "    'previous_score': [45, 50, 55, 60, 65, 70, 75, 80, 85, 90, 40, 45, 50, 55, 60, 65, 70, 75, 80, 85],\n",
    "    'passed': [0, 0, 0, 0, 1, 1, 1, 1, 1, 1, 0, 0, 0, 1, 1, 1, 1, 1, 1, 1]}\n",
    "\n",
    "df = pd.DataFrame(data)\n",
    "print(\"Dataset Preview:\")\n",
    "print(df.head())"
   ]
  },
  {
   "cell_type": "code",
   "execution_count": 3,
   "id": "4206b210",
   "metadata": {},
   "outputs": [
    {
     "data": {
      "text/plain": [
       "study_hours       0\n",
       "previous_score    0\n",
       "passed            0\n",
       "dtype: int64"
      ]
     },
     "execution_count": 3,
     "metadata": {},
     "output_type": "execute_result"
    }
   ],
   "source": [
    "df.isnull().sum()  # Check for missing values"
   ]
  },
  {
   "cell_type": "code",
   "execution_count": 4,
   "id": "72d43471",
   "metadata": {},
   "outputs": [],
   "source": [
    "#step2: prepare the data \n",
    "#feature (X) and target variable y\n",
    "X= df[['study_hours',\"previous_score\"]]\n",
    "y= df['passed']# Dependent variable (what we want to predict)\n"
   ]
  },
  {
   "cell_type": "code",
   "execution_count": 5,
   "id": "ba06587a",
   "metadata": {},
   "outputs": [
    {
     "name": "stdout",
     "output_type": "stream",
     "text": [
      "Training set: 16 samples \n",
      "Testing set:4 samples\n"
     ]
    }
   ],
   "source": [
    "#step3: split the data into training and testing sets\n",
    "X_train,X_test,y_train,y_test = train_test_split(X,y,test_size=0.2,random_state=42)\n",
    "\n",
    "print(f\"Training set: {len(X_train)} samples \")\n",
    "print(f\"Testing set:{len(X_test)} samples\")"
   ]
  },
  {
   "cell_type": "code",
   "execution_count": 6,
   "id": "0722d257",
   "metadata": {},
   "outputs": [
    {
     "name": "stdout",
     "output_type": "stream",
     "text": [
      "\n",
      "Model trained successfully.\n"
     ]
    }
   ],
   "source": [
    "#step4 : cretae and train the logistic regression model\n",
    "model  = LogisticRegression()\n",
    "model.fit(X_train,y_train)\n",
    "print(\"\\nModel trained successfully.\")"
   ]
  },
  {
   "cell_type": "code",
   "execution_count": 7,
   "id": "1d41a5b0",
   "metadata": {},
   "outputs": [
    {
     "name": "stdout",
     "output_type": "stream",
     "text": [
      "\n",
      "Predictions:\n",
      "[0 1 1 0]\n"
     ]
    }
   ],
   "source": [
    "#step5 : make predictions\n",
    "y_pred = model.predict(X_test)\n",
    "#predict probabilities\n",
    "y_prob = model.predict_proba(X_test)[:, 1]\n",
    "\n",
    "print(\"\\nPredictions:\")\n",
    "print(y_pred)"
   ]
  },
  {
   "cell_type": "code",
   "execution_count": 8,
   "id": "5c4b17ec",
   "metadata": {},
   "outputs": [
    {
     "name": "stdout",
     "output_type": "stream",
     "text": [
      "\n",
      "Predictions vs Actual:\n",
      "Student 1: Probability=0.002, Predicted=0, Actual=0\n",
      "Student 2: Probability=1.000, Predicted=1, Actual=1\n",
      "Student 3: Probability=0.984, Predicted=1, Actual=1\n",
      "Student 4: Probability=0.016, Predicted=0, Actual=0\n"
     ]
    }
   ],
   "source": [
    "#making Binary predictions \n",
    "y_pred = model.predict(X_test)\n",
    "\n",
    "\n",
    "print(\"\\nPredictions vs Actual:\")\n",
    "for i in range(len(X_test)):\n",
    "    print(f\"Student {i+1}: Probability={y_prob[i]:.3f}, Predicted={y_pred[i]}, Actual={y_test.iloc[i]}\")"
   ]
  },
  {
   "cell_type": "code",
   "execution_count": 9,
   "id": "6ebba56e",
   "metadata": {},
   "outputs": [
    {
     "name": "stdout",
     "output_type": "stream",
     "text": [
      "\n",
      "Model Accuracy: 1.00\n",
      "\n",
      "Classification Report\n",
      "              precision    recall  f1-score   support\n",
      "\n",
      "           0       1.00      1.00      1.00         2\n",
      "           1       1.00      1.00      1.00         2\n",
      "\n",
      "    accuracy                           1.00         4\n",
      "   macro avg       1.00      1.00      1.00         4\n",
      "weighted avg       1.00      1.00      1.00         4\n",
      "\n",
      "\n",
      "confusion_matrix\n",
      "[[2 0]\n",
      " [0 2]]\n"
     ]
    },
    {
     "data": {
      "text/plain": [
       "Text(0.5, 1.0, 'Confusion Matrix')"
      ]
     },
     "execution_count": 9,
     "metadata": {},
     "output_type": "execute_result"
    },
    {
     "data": {
      "image/png": "[encoded data removed]",
      "text/plain": [
       "<Figure size 800x600 with 1 Axes>"
      ]
     },
     "metadata": {},
     "output_type": "display_data"
    }
   ],
   "source": [
    "#step 6 : evaluate the model\n",
    "accuracy = accuracy_score(y_test,y_pred)\n",
    "print(f\"\\nModel Accuracy: {accuracy:.2f}\")\n",
    "# Detailed classification report\n",
    "print(f\"\\nClassification Report\")\n",
    "print(classification_report(y_test,y_pred))\n",
    "# Confusion matrix\n",
    "print(f\"\\nconfusion_matrix\")\n",
    "print(confusion_matrix(y_test,y_pred))\n",
    "# Visualize confusion matrix\n",
    "cm = confusion_matrix(y_test, y_pred)\n",
    "plt.figure(figsize=(8, 6))\n",
    "plt.imshow(cm,interpolation='nearest', cmap=plt.cm.Blues)\n",
    "plt.title('Confusion Matrix')"
   ]
  },
  {
   "cell_type": "code",
   "execution_count": 10,
   "id": "eacab950",
   "metadata": {},
   "outputs": [
    {
     "name": "stdout",
     "output_type": "stream",
     "text": [
      "\n",
      "Model Coefficients (Weights):\n",
      "Intercept (β₀): -16.626\n",
      "Study Hours coefficient (β₁): 1.020\n",
      "Previous Score coefficient (β₂): 0.209\n"
     ]
    }
   ],
   "source": [
    "# Step 7: Interpret the model coefficients\n",
    "print(f\"\\nModel Coefficients (Weights):\")\n",
    "print(f\"Intercept (β₀): {model.intercept_[0]:.3f}\")\n",
    "print(f\"Study Hours coefficient (β₁): {model.coef_[0][0]:.3f}\")\n",
    "print(f\"Previous Score coefficient (β₂): {model.coef_[0][1]:.3f}\")"
   ]
  },
  {
   "cell_type": "code",
   "execution_count": 11,
   "id": "8e31b513",
   "metadata": {},
   "outputs": [
    {
     "name": "stdout",
     "output_type": "stream",
     "text": [
      "\n",
      "Interpretation:\n",
      "- Each additional study hour increases odds of passing by factor of 2.774\n",
      "- Each additional point in previous score increases odds by factor of 1.233\n"
     ]
    }
   ],
   "source": [
    "# What this means:\n",
    "print(f\"\\nInterpretation:\")\n",
    "print(f\"- Each additional study hour increases odds of passing by factor of {np.exp(model.coef_[0][0]):.3f}\")\n",
    "print(f\"- Each additional point in previous score increases odds by factor of {np.exp(model.coef_[0][1]):.3f}\")\n"
   ]
  },
  {
   "cell_type": "code",
   "execution_count": 14,
   "id": "3add9f58",
   "metadata": {},
   "outputs": [
    {
     "name": "stdout",
     "output_type": "stream",
     "text": [
      "\n",
      "Predictions for new students:\n",
      "Student with 5 study hours and 70 previous score:\n",
      "  Probability of passing: 0.958\n",
      "  Prediction: Pass\n",
      "Student with 8 study hours and 85 previous score:\n",
      "  Probability of passing: 1.000\n",
      "  Prediction: Pass\n",
      "Student with 3 study hours and 45 previous score:\n",
      "  Probability of passing: 0.016\n",
      "  Prediction: Fail\n"
     ]
    },
    {
     "name": "stderr",
     "output_type": "stream",
     "text": [
      "C:\\Users\\Dell\\AppData\\Roaming\\Python\\Python312\\site-packages\\sklearn\\base.py:493: UserWarning: X does not have valid feature names, but LogisticRegression was fitted with feature names\n",
      "  warnings.warn(\n",
      "C:\\Users\\Dell\\AppData\\Roaming\\Python\\Python312\\site-packages\\sklearn\\base.py:493: UserWarning: X does not have valid feature names, but LogisticRegression was fitted with feature names\n",
      "  warnings.warn(\n"
     ]
    }
   ],
   "source": [
    "# Step 8: Make predictions for new students\n",
    "new_students = np.array([[5, 70], [8, 85], [3, 45]])\n",
    "new_probabilities = model.predict_proba(new_students)[:, 1]\n",
    "new_predictions = model.predict(new_students)\n",
    "\n",
    "print(f\"\\nPredictions for new students:\")\n",
    "for i, (hours, score) in enumerate(new_students):\n",
    "    print(f\"Student with {hours} study hours and {score} previous score:\")\n",
    "    print(f\"  Probability of passing: {new_probabilities[i]:.3f}\")\n",
    "    print(f\"  Prediction: {'Pass' if new_predictions[i] == 1 else 'Fail'}\")"
   ]
  },
  {
   "cell_type": "code",
   "execution_count": null,
   "id": "ec03d4d6",
   "metadata": {},
   "outputs": [],
   "source": []
  }
 ],
 "metadata": {
  "kernelspec": {
   "display_name": "Python 3",
   "language": "python",
   "name": "python3"
  },
  "language_info": {
   "codemirror_mode": {
    "name": "ipython",
    "version": 3
   },
   "file_extension": ".py",
   "mimetype": "text/x-python",
   "name": "python",
   "nbconvert_exporter": "python",
   "pygments_lexer": "ipython3",
   "version": "3.12.0"
  }
 },
 "nbformat": 4,
 "nbformat_minor": 5
}
