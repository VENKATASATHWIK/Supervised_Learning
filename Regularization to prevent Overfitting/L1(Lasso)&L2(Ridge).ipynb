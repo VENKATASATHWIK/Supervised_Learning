{
 "cells": [
  {
   "cell_type": "code",
   "execution_count": 1,
   "id": "c3c7d014",
   "metadata": {},
   "outputs": [],
   "source": [
    "from sklearn.datasets import load_breast_cancer\n",
    "from sklearn.model_selection import train_test_split\n",
    "from sklearn.linear_model import LogisticRegression\n",
    "from sklearn.metrics import accuracy_score\n",
    "\n"
   ]
  },
  {
   "cell_type": "code",
   "execution_count": 2,
   "id": "c8bf1ef8",
   "metadata": {},
   "outputs": [],
   "source": [
    "#load data \n",
    "\n",
    "X,y = load_breast_cancer(return_X_y=True)\n"
   ]
  },
  {
   "cell_type": "code",
   "execution_count": 3,
   "id": "55d69cca",
   "metadata": {},
   "outputs": [],
   "source": [
    "#split the data \n",
    "\n",
    "X_train,X_test,y_train,y_test = train_test_split(X,y,test_size=0.2,random_state=42)\n"
   ]
  },
  {
   "cell_type": "code",
   "execution_count": 6,
   "id": "aef60430",
   "metadata": {},
   "outputs": [
    {
     "name": "stdout",
     "output_type": "stream",
     "text": [
      " L1 accuracy score of train data:  0.9604395604395605\n",
      "L1 accuracy_score of test data:  0.956140350877193\n"
     ]
    }
   ],
   "source": [
    "# L1 Regularization (Lasso)\n",
    "\n",
    "\n",
    "#model training \n",
    "l1_model = LogisticRegression(penalty=\"l1\",solver=\"liblinear\")\n",
    "\n",
    "l1_model.fit(X_train,y_train)\n",
    "\n",
    "#prediction\n",
    "\n",
    "train_pred = l1_model.predict(X_train)\n",
    "test_pred = l1_model.predict(X_test)\n",
    "\n",
    "#evaluation \n",
    "\n",
    "print(\" L1 accuracy score of train data: \",accuracy_score(y_train,train_pred))\n",
    "print(\"L1 accuracy_score of test data: \",accuracy_score(y_test,test_pred))"
   ]
  },
  {
   "cell_type": "code",
   "execution_count": 5,
   "id": "2ee4347f",
   "metadata": {},
   "outputs": [
    {
     "name": "stdout",
     "output_type": "stream",
     "text": [
      "l2_accuracy of train data:  0.9582417582417583\n",
      "l2_accuracy of train data: 0.956140350877193\n"
     ]
    }
   ],
   "source": [
    "# L2 regularization (Ridge)\n",
    "\n",
    "l2_model = LogisticRegression(penalty=\"l2\",solver = \"liblinear\")\n",
    "\n",
    "\n",
    "#train the model \n",
    "\n",
    "l2_model.fit(X_train,y_train)\n",
    "\n",
    "# predict the model \n",
    "train_pred = l2_model.predict(X_train)\n",
    "test_pred = l2_model.predict(X_test)\n",
    "\n",
    "#evalaute the model \n",
    "print(\"l2_accuracy of train data: \",accuracy_score(y_train,train_pred))\n",
    "print(\"l2_accuracy of train data:\", accuracy_score(y_test,test_pred))"
   ]
  },
  {
   "cell_type": "code",
   "execution_count": null,
   "id": "3c3d62b8",
   "metadata": {},
   "outputs": [],
   "source": []
  },
  {
   "cell_type": "code",
   "execution_count": null,
   "id": "4c2a4627",
   "metadata": {},
   "outputs": [],
   "source": []
  },
  {
   "cell_type": "code",
   "execution_count": null,
   "id": "c6449f30",
   "metadata": {},
   "outputs": [],
   "source": []
  }
 ],
 "metadata": {
  "kernelspec": {
   "display_name": "Python 3",
   "language": "python",
   "name": "python3"
  },
  "language_info": {
   "codemirror_mode": {
    "name": "ipython",
    "version": 3
   },
   "file_extension": ".py",
   "mimetype": "text/x-python",
   "name": "python",
   "nbconvert_exporter": "python",
   "pygments_lexer": "ipython3",
   "version": "3.12.0"
  }
 },
 "nbformat": 4,
 "nbformat_minor": 5
}
