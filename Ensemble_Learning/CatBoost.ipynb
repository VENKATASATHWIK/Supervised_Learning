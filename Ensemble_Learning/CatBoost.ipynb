{
 "cells": [
  {
   "cell_type": "code",
   "execution_count": 3,
   "id": "e0c666e0",
   "metadata": {},
   "outputs": [],
   "source": [
    "# step1 : Install CatBoost \n",
    "\n",
    "from catboost import CatBoostClassifier\n",
    "from sklearn.model_selection import train_test_split\n",
    "from sklearn.metrics import accuracy_score\n",
    "import pandas as pd \n",
    "import seaborn as sns "
   ]
  },
  {
   "cell_type": "code",
   "execution_count": 4,
   "id": "c5ddb458",
   "metadata": {},
   "outputs": [],
   "source": [
    "\n",
    "# Step 2: Load Titanic dataset\n",
    "df = sns.load_dataset('titanic')\n",
    "df = df[['survived', 'pclass', 'sex', 'age', 'embarked']].dropna()"
   ]
  },
  {
   "cell_type": "code",
   "execution_count": 5,
   "id": "236f82ae",
   "metadata": {},
   "outputs": [],
   "source": [
    "X = df.drop(\"survived\",axis=1)\n",
    "y=df[\"survived\"]\n"
   ]
  },
  {
   "cell_type": "code",
   "execution_count": 6,
   "id": "f312f074",
   "metadata": {},
   "outputs": [],
   "source": [
    "cat_features  = ['sex',\"embarked\",\"pclass\"]\n"
   ]
  },
  {
   "cell_type": "code",
   "execution_count": 7,
   "id": "ba9b4b71",
   "metadata": {},
   "outputs": [],
   "source": [
    "X_train,y_train, X_test,y_test = train_test_split(X,y,test_size=0.2, random_state=42)\n"
   ]
  },
  {
   "cell_type": "code",
   "execution_count": 8,
   "id": "e9ab7ba8",
   "metadata": {},
   "outputs": [
    {
     "name": "stdout",
     "output_type": "stream",
     "text": [
      "Accuracy of test data : 0.7902097902097902\n"
     ]
    }
   ],
   "source": [
    "# Step 1: Install CatBoost (only once)\n",
    "# !pip install catboost\n",
    "\n",
    "from catboost import CatBoostClassifier\n",
    "from sklearn.model_selection import train_test_split\n",
    "from sklearn.metrics import accuracy_score\n",
    "import pandas as pd\n",
    "import seaborn as sns\n",
    "\n",
    "# Step 2: Load Titanic dataset\n",
    "df = sns.load_dataset('titanic')\n",
    "df = df[['survived', 'pclass', 'sex', 'age', 'embarked']].dropna()\n",
    "\n",
    "# Step 3: Split data\n",
    "X = df.drop('survived', axis=1)\n",
    "y = df['survived']\n",
    "\n",
    "# Identify categorical features\n",
    "cat_features = ['sex', 'embarked', 'pclass']\n",
    "\n",
    "# Step 4: Train/Test split\n",
    "X_train, X_test, y_train, y_test = train_test_split(X, y, test_size=0.2, random_state=42)\n",
    "\n",
    "# Step 5: Train CatBoost\n",
    "model = CatBoostClassifier(verbose=0)\n",
    "model.fit(X_train, y_train, cat_features=cat_features)\n",
    "\n",
    "# Step 6: Evaluate\n",
    "y_pred = model.predict(X_test)\n",
    "print(\"Accuracy of test data :\", accuracy_score(y_test, y_pred))\n"
   ]
  },
  {
   "cell_type": "code",
   "execution_count": 9,
   "id": "a741c1ac",
   "metadata": {},
   "outputs": [
    {
     "name": "stdout",
     "output_type": "stream",
     "text": [
      "Accuracy of train data:  0.8295254833040422\n"
     ]
    }
   ],
   "source": [
    "#testing on train data to check overfitting \n",
    "\n",
    "y_train_pred= model.predict(X_train)\n",
    "print(\"Accuracy of train data: \",accuracy_score(y_train,y_train_pred))"
   ]
  },
  {
   "cell_type": "code",
   "execution_count": null,
   "id": "f9fe074b",
   "metadata": {},
   "outputs": [],
   "source": []
  },
  {
   "cell_type": "markdown",
   "id": "275cee64",
   "metadata": {},
   "source": [
    "### since we the accuracy is low we are using other steps to imporve our accuracy "
   ]
  },
  {
   "cell_type": "code",
   "execution_count": 10,
   "id": "19da4ac0",
   "metadata": {},
   "outputs": [],
   "source": [
    "#add age_grp\n",
    "def age_group(age):\n",
    "    if age<18:\n",
    "        return \"child\"\n",
    "    elif age<30:\n",
    "        return \"young\"\n",
    "    elif age<50:\n",
    "        return \"adult\"\n",
    "    else:\n",
    "        return \"senior\"\n",
    "    \n",
    "X_train[\"age_group\"] = X_train['age'].apply(age_group)\n",
    "X_test[\"age_group\"] = X_test['age'].apply(age_group)\n",
    "\n",
    "\n",
    "#add sex_pclass \n",
    "\n",
    "X_train['sex_pclass'] = X_train['sex'] + \"_\" +X_train['pclass'].astype(str)\n",
    "\n",
    "\n",
    "X_test['sex_pclass'] = X_test['sex'] + \"_\" +X_test['pclass'].astype(str)"
   ]
  },
  {
   "cell_type": "code",
   "execution_count": 11,
   "id": "b5acc855",
   "metadata": {},
   "outputs": [
    {
     "name": "stdout",
     "output_type": "stream",
     "text": [
      "0:\tlearn: 0.6721950\ttest: 0.6750795\tbest: 0.6750795 (0)\ttotal: 13.4ms\tremaining: 6.67s\n",
      "100:\tlearn: 0.3535925\ttest: 0.4889033\tbest: 0.4855161 (74)\ttotal: 1.7s\tremaining: 6.7s\n",
      "Stopped by overfitting detector  (50 iterations wait)\n",
      "\n",
      "bestTest = 0.4855161351\n",
      "bestIteration = 74\n",
      "\n",
      "Shrink model to first 75 iterations.\n"
     ]
    },
    {
     "data": {
      "text/plain": [
       "<catboost.core.CatBoostClassifier at 0x25291554740>"
      ]
     },
     "execution_count": 11,
     "metadata": {},
     "output_type": "execute_result"
    }
   ],
   "source": [
    "# training the catboost model using regularization\n",
    "\n",
    "# Update cat_features to include all categorical columns in X_train/X_test\n",
    "cat_features_updated = ['sex', 'embarked', 'pclass', 'age_group', 'sex_pclass']\n",
    "\n",
    "model = CatBoostClassifier(\n",
    "    iterations=500,\n",
    "    learning_rate=0.05,\n",
    "    depth=6,\n",
    "    l2_leaf_reg=4,\n",
    "    random_strength=1,\n",
    "    od_type='Iter',\n",
    "    od_wait=50,\n",
    "    cat_features=cat_features_updated,\n",
    "    verbose=100\n",
    ")\n",
    "model.fit(X_train, y_train, eval_set=(X_test, y_test))"
   ]
  },
  {
   "cell_type": "code",
   "execution_count": 12,
   "id": "31ddf880",
   "metadata": {},
   "outputs": [
    {
     "name": "stdout",
     "output_type": "stream",
     "text": [
      "Accuracy on train data: 0.8242530755711776\n",
      "Accuracy on test data: 0.7832167832167832\n"
     ]
    }
   ],
   "source": [
    "# Train accuracy\n",
    "y_train_pred = model.predict(X_train)\n",
    "print(\"Accuracy on train data:\", accuracy_score(y_train, y_train_pred))\n",
    "\n",
    "# Test accuracy\n",
    "y_test_pred = model.predict(X_test)\n",
    "print(\"Accuracy on test data:\", accuracy_score(y_test, y_test_pred))\n"
   ]
  },
  {
   "cell_type": "code",
   "execution_count": 13,
   "id": "2a385848",
   "metadata": {},
   "outputs": [
    {
     "name": "stdout",
     "output_type": "stream",
     "text": [
      "Defaulting to user installation because normal site-packages is not writeable\n",
      "Requirement already satisfied: ipywidgets in c:\\users\\dell\\appdata\\roaming\\python\\python312\\site-packages (8.1.7)\n",
      "Requirement already satisfied: comm>=0.1.3 in c:\\users\\dell\\appdata\\roaming\\python\\python312\\site-packages (from ipywidgets) (0.2.1)\n",
      "Requirement already satisfied: ipython>=6.1.0 in c:\\users\\dell\\appdata\\roaming\\python\\python312\\site-packages (from ipywidgets) (8.22.2)\n",
      "Requirement already satisfied: traitlets>=4.3.1 in c:\\users\\dell\\appdata\\roaming\\python\\python312\\site-packages (from ipywidgets) (5.14.1)\n",
      "Requirement already satisfied: widgetsnbextension~=4.0.14 in c:\\users\\dell\\appdata\\roaming\\python\\python312\\site-packages (from ipywidgets) (4.0.14)\n",
      "Requirement already satisfied: jupyterlab_widgets~=3.0.15 in c:\\users\\dell\\appdata\\roaming\\python\\python312\\site-packages (from ipywidgets) (3.0.15)\n",
      "Requirement already satisfied: decorator in c:\\users\\dell\\appdata\\roaming\\python\\python312\\site-packages (from ipython>=6.1.0->ipywidgets) (5.1.1)\n",
      "Requirement already satisfied: jedi>=0.16 in c:\\users\\dell\\appdata\\roaming\\python\\python312\\site-packages (from ipython>=6.1.0->ipywidgets) (0.19.1)\n",
      "Requirement already satisfied: matplotlib-inline in c:\\users\\dell\\appdata\\roaming\\python\\python312\\site-packages (from ipython>=6.1.0->ipywidgets) (0.1.6)\n",
      "Requirement already satisfied: prompt-toolkit<3.1.0,>=3.0.41 in c:\\users\\dell\\appdata\\roaming\\python\\python312\\site-packages (from ipython>=6.1.0->ipywidgets) (3.0.43)\n",
      "Requirement already satisfied: pygments>=2.4.0 in c:\\users\\dell\\appdata\\roaming\\python\\python312\\site-packages (from ipython>=6.1.0->ipywidgets) (2.17.2)\n",
      "Requirement already satisfied: stack-data in c:\\users\\dell\\appdata\\roaming\\python\\python312\\site-packages (from ipython>=6.1.0->ipywidgets) (0.6.3)\n",
      "Requirement already satisfied: colorama in c:\\users\\dell\\appdata\\roaming\\python\\python312\\site-packages (from ipython>=6.1.0->ipywidgets) (0.4.6)\n",
      "Requirement already satisfied: wcwidth in c:\\users\\dell\\appdata\\roaming\\python\\python312\\site-packages (from prompt-toolkit<3.1.0,>=3.0.41->ipython>=6.1.0->ipywidgets) (0.2.13)\n",
      "Requirement already satisfied: parso<0.9.0,>=0.8.3 in c:\\users\\dell\\appdata\\roaming\\python\\python312\\site-packages (from jedi>=0.16->ipython>=6.1.0->ipywidgets) (0.8.3)\n",
      "Requirement already satisfied: executing>=1.2.0 in c:\\users\\dell\\appdata\\roaming\\python\\python312\\site-packages (from stack-data->ipython>=6.1.0->ipywidgets) (2.0.1)\n",
      "Requirement already satisfied: asttokens>=2.1.0 in c:\\users\\dell\\appdata\\roaming\\python\\python312\\site-packages (from stack-data->ipython>=6.1.0->ipywidgets) (2.4.1)\n",
      "Requirement already satisfied: pure-eval in c:\\users\\dell\\appdata\\roaming\\python\\python312\\site-packages (from stack-data->ipython>=6.1.0->ipywidgets) (0.2.2)\n",
      "Requirement already satisfied: six>=1.12.0 in c:\\users\\dell\\appdata\\roaming\\python\\python312\\site-packages (from asttokens>=2.1.0->stack-data->ipython>=6.1.0->ipywidgets) (1.16.0)\n",
      "Note: you may need to restart the kernel to use updated packages.\n"
     ]
    },
    {
     "data": {
      "application/vnd.jupyter.widget-view+json": {
       "model_id": "0f59f58089d34c799ad985dfb5e47883",
       "version_major": 2,
       "version_minor": 0
      },
      "text/plain": [
       "MetricVisualizer(layout=Layout(align_self='stretch', height='500px'))"
      ]
     },
     "metadata": {},
     "output_type": "display_data"
    },
    {
     "name": "stdout",
     "output_type": "stream",
     "text": [
      "Training on fold [0/5]\n",
      "\n",
      "bestTest = 0.4985629232\n",
      "bestIteration = 73\n",
      "\n",
      "Training on fold [1/5]\n",
      "\n",
      "bestTest = 0.3903073129\n",
      "bestIteration = 163\n",
      "\n",
      "Training on fold [2/5]\n",
      "\n",
      "bestTest = 0.3447323829\n",
      "bestIteration = 271\n",
      "\n",
      "Training on fold [3/5]\n",
      "\n",
      "bestTest = 0.5214055632\n",
      "bestIteration = 90\n",
      "\n",
      "Training on fold [4/5]\n",
      "\n",
      "bestTest = 0.343120209\n",
      "bestIteration = 924\n",
      "\n"
     ]
    }
   ],
   "source": [
    "%pip install ipywidgets\n",
    "\n",
    "## cross validation to stabilize accuracy \n",
    "from catboost import Pool, cv\n",
    "\n",
    "#combine X, y into one pool\n",
    "full_pool = Pool(X,y,cat_features = cat_features)\n",
    "\n",
    "params = {\n",
    "    'iterations': 1000,\n",
    "    'learning_rate': 0.03,\n",
    "    'depth': 6,\n",
    "    'l2_leaf_reg': 4,\n",
    "    'random_strength': 1,\n",
    "    'loss_function': 'Logloss',\n",
    "    'od_type': 'Iter',\n",
    "    'od_wait': 50,\n",
    "    'verbose': False\n",
    "}\n",
    "\n",
    "#run 5 fold cross validation\n",
    "cv_result = cv(\n",
    "    params = params,\n",
    "    pool=full_pool,\n",
    "    fold_count=5,\n",
    "    shuffle=True,\n",
    "    partition_random_seed=42,\n",
    "    plot = True)"
   ]
  },
  {
   "cell_type": "code",
   "execution_count": null,
   "id": "290a2712",
   "metadata": {},
   "outputs": [],
   "source": []
  },
  {
   "cell_type": "code",
   "execution_count": 14,
   "id": "20a3fadc",
   "metadata": {},
   "outputs": [
    {
     "name": "stdout",
     "output_type": "stream",
     "text": [
      "304\n"
     ]
    }
   ],
   "source": [
    "mean_iter = int((73 + 163 + 271 + 90 + 924) / 5)\n",
    "print(mean_iter)  # ≈ 304\n"
   ]
  },
  {
   "cell_type": "code",
   "execution_count": 21,
   "id": "83bab592",
   "metadata": {},
   "outputs": [
    {
     "name": "stdout",
     "output_type": "stream",
     "text": [
      "0:\tlearn: 0.6525154\ttest: 0.6582306\tbest: 0.6582306 (0)\ttotal: 18.1ms\tremaining: 5.5s\n",
      "100:\tlearn: 0.3283837\ttest: 0.4883637\tbest: 0.4877328 (77)\ttotal: 1.65s\tremaining: 3.33s\n",
      "200:\tlearn: 0.2689162\ttest: 0.4987983\tbest: 0.4877328 (77)\ttotal: 3.31s\tremaining: 1.71s\n",
      "300:\tlearn: 0.2249494\ttest: 0.5063736\tbest: 0.4877328 (77)\ttotal: 5s\tremaining: 66.5ms\n",
      "304:\tlearn: 0.2240405\ttest: 0.5048494\tbest: 0.4877328 (77)\ttotal: 5.06s\tremaining: 0us\n",
      "\n",
      "bestTest = 0.4877328339\n",
      "bestIteration = 77\n",
      "\n",
      "Shrink model to first 78 iterations.\n",
      "Final Train Accuracy: 0.8242530755711776\n",
      "Final Test Accuracy: 0.7902097902097902\n"
     ]
    }
   ],
   "source": [
    "final_model = CatBoostClassifier(\n",
    "    iterations=305,\n",
    "    learning_rate=0.1,\n",
    "    depth=5,\n",
    "    l2_leaf_reg=5,\n",
    "    random_strength=1,\n",
    "    cat_features=cat_features_updated,\n",
    "    verbose=100\n",
    ")\n",
    "\n",
    "final_model.fit(X_train, y_train, eval_set=(X_test, y_test))\n",
    "\n",
    "# Final evaluation\n",
    "from sklearn.metrics import accuracy_score\n",
    "\n",
    "y_train_pred = final_model.predict(X_train)\n",
    "y_test_pred = final_model.predict(X_test)\n",
    "\n",
    "print(\"Final Train Accuracy:\", accuracy_score(y_train, y_train_pred))\n",
    "print(\"Final Test Accuracy:\", accuracy_score(y_test, y_test_pred))\n"
   ]
  },
  {
   "cell_type": "code",
   "execution_count": null,
   "id": "03e2d9a5",
   "metadata": {},
   "outputs": [],
   "source": []
  },
  {
   "cell_type": "code",
   "execution_count": null,
   "id": "a21e77b0",
   "metadata": {},
   "outputs": [],
   "source": []
  }
 ],
 "metadata": {
  "kernelspec": {
   "display_name": "Python 3",
   "language": "python",
   "name": "python3"
  },
  "language_info": {
   "codemirror_mode": {
    "name": "ipython",
    "version": 3
   },
   "file_extension": ".py",
   "mimetype": "text/x-python",
   "name": "python",
   "nbconvert_exporter": "python",
   "pygments_lexer": "ipython3",
   "version": "3.12.0"
  }
 },
 "nbformat": 4,
 "nbformat_minor": 5
}
